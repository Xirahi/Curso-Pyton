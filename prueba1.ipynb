{
  "nbformat": 4,
  "nbformat_minor": 0,
  "metadata": {
    "colab": {
      "provenance": [],
      "authorship_tag": "ABX9TyO11yizX6UcenQSgxGsd5qr",
      "include_colab_link": true
    },
    "kernelspec": {
      "name": "python3",
      "display_name": "Python 3"
    },
    "language_info": {
      "name": "python"
    }
  },
  "cells": [
    {
      "cell_type": "markdown",
      "metadata": {
        "id": "view-in-github",
        "colab_type": "text"
      },
      "source": [
        "<a href=\"https://colab.research.google.com/github/Xirahi/Curso-Pyton/blob/main/prueba1.ipynb\" target=\"_parent\"><img src=\"https://colab.research.google.com/assets/colab-badge.svg\" alt=\"Open In Colab\"/></a>"
      ]
    },
    {
      "cell_type": "code",
      "execution_count": null,
      "metadata": {
        "colab": {
          "base_uri": "https://localhost:8080/"
        },
        "id": "zA6jNOExI0PA",
        "outputId": "cea3b682-ff05-4368-d7a1-ecd70f4a7efb"
      },
      "outputs": [
        {
          "output_type": "stream",
          "name": "stdout",
          "text": [
            "Hello cosia linda\n"
          ]
        }
      ],
      "source": [
        "print(\"Hello cosia linda\")"
      ]
    },
    {
      "cell_type": "code",
      "source": [
        "suma_dos_numeros = 125 + 365"
      ],
      "metadata": {
        "id": "FCXlRdqAJd6z"
      },
      "execution_count": null,
      "outputs": []
    },
    {
      "cell_type": "code",
      "source": [
        "suma_dos_numeros = 1232 + 2314"
      ],
      "metadata": {
        "id": "8OfdhdzzJwEU"
      },
      "execution_count": null,
      "outputs": []
    },
    {
      "cell_type": "code",
      "source": [],
      "metadata": {
        "id": "Htkgpj2xJ53n"
      },
      "execution_count": null,
      "outputs": []
    }
  ]
}